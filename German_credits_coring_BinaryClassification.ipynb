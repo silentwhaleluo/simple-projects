{
 "cells": [
  {
   "cell_type": "code",
   "execution_count": 1,
   "metadata": {},
   "outputs": [],
   "source": [
    "import pandas as pd                                                                        \n",
    "import numpy as np\n",
    "from sklearn.model_selection import train_test_split\n",
    "import matplotlib.pyplot as plt\n",
    "from sklearn.metrics import roc_curve\n",
    "from sklearn.metrics import auc\n",
    "from sklearn.metrics import confusion_matrix"
   ]
  },
  {
   "cell_type": "code",
   "execution_count": 2,
   "metadata": {},
   "outputs": [
    {
     "name": "stderr",
     "output_type": "stream",
     "text": [
      "e:\\Users\\Administrator\\Anaconda3\\lib\\site-packages\\h5py\\__init__.py:36: FutureWarning: Conversion of the second argument of issubdtype from `float` to `np.floating` is deprecated. In future, it will be treated as `np.float64 == np.dtype(float).type`.\n",
      "  from ._conv import register_converters as _register_converters\n",
      "Using TensorFlow backend.\n"
     ]
    }
   ],
   "source": [
    "from keras.models import load_model"
   ]
  },
  {
   "cell_type": "code",
   "execution_count": 3,
   "metadata": {},
   "outputs": [],
   "source": [
    "def summary_tables(train_pred,train_true,test_pred,test_true,threshold = 0.5):\n",
    "    train_pred_class = (train_pred <threshold).astype(int)\n",
    "    test_pred_class  = (test_pred <threshold).astype(int)   \n",
    "    #train and validation\n",
    "    #print(test_pred_class)\n",
    "    train_cm = confusion_matrix(train_true,train_pred_class ).ravel()\n",
    "    test_cm = confusion_matrix(test_true,test_pred_class ).ravel()\n",
    "    train_test_table = pd.DataFrame([train_cm,test_cm],columns = [\"True Negative\",\"False Positve\",'False Negative','True Positive'],\n",
    "                index = ['Training Data','Validation'])\n",
    "    #confusion matrix of validation\n",
    "    c_m_test = confusion_matrix(test_true,test_pred_class )\n",
    "    c_m_test = pd.DataFrame(c_m_test,columns = [\"Bad(Predict Negative)\",\"Good(Predict Positve)\"],\n",
    "                            index = [\"Bad(Observed)\",\"Good(Observed)\"])\n",
    "    c_m_test.loc ['Pecentage Negative'] = c_m_test.loc[\"Bad(Observed)\"]/c_m_test.loc[\"Bad(Observed)\"].sum()\n",
    "    c_m_test.loc ['Pecentage Positive'] = c_m_test.loc[\"Good(Observed)\"]/c_m_test.loc[\"Good(Observed)\"].sum()\n",
    "\n",
    "    c_m_test ['Row Total'] = c_m_test.sum(axis = 1)\n",
    "    c_m_test.loc ['Column Total'] = c_m_test.sum(axis = 0)\n",
    "    c_m_test = c_m_test.reindex(index =[ \"Bad(Observed)\",'Pecentage Negative',\\\n",
    "                     \"Good(Observed)\",'Pecentage Positive',\"Column Total\"])\n",
    "    c_m_test.round(2)\n",
    "    return train_test_table ,c_m_test.round(2)\n",
    "def roc_plot(y_true,y_pred_prob,model_name):\n",
    "    # Compute fpr, tpr, thresholds and roc auc\n",
    "    fpr, tpr, thresholds = roc_curve(y_true, y_pred_prob,pos_label = 1)\n",
    "    roc_auc = auc(fpr, tpr)\n",
    "    # Plot ROC curve\n",
    "    plt.plot(fpr, tpr, label='ROC curve (area = %0.3f)' % roc_auc)\n",
    "    plt.plot([0, 1], [0, 1], 'k--')  # random predictions curve\n",
    "    plt.xlim([0.0, 1.0])\n",
    "    plt.ylim([0.0, 1.0])\n",
    "    plt.xlabel('False Positive Rate or (1 - Specifity)')\n",
    "    plt.ylabel('True Positive Rate or (Sensitivity)')\n",
    "    plt.title('ROC for {}'.format(model_name))\n",
    "    plt.legend(loc=\"lower right\")"
   ]
  },
  {
   "cell_type": "code",
   "execution_count": 4,
   "metadata": {},
   "outputs": [
    {
     "name": "stdout",
     "output_type": "stream",
     "text": [
      "WARNING *** OLE2 inconsistency: SSCS size is 0 but SSAT size is non-zero\n"
     ]
    }
   ],
   "source": [
    "data = pd.read_excel(\"E:/download/German_creditscoring.xls\")\n",
    "facotrize_dict = {}\n",
    "for col in data.columns:\n",
    "    if data[col].dtypes == object :\n",
    "        data[col] = data[col].astype('category')\n",
    "        col_dict = dict( enumerate(data[col].cat.categories ) )\n",
    "        facotrize_dict[col] = col_dict"
   ]
  },
  {
   "cell_type": "code",
   "execution_count": 38,
   "metadata": {},
   "outputs": [
    {
     "data": {
      "text/html": [
       "<div>\n",
       "<style scoped>\n",
       "    .dataframe tbody tr th:only-of-type {\n",
       "        vertical-align: middle;\n",
       "    }\n",
       "\n",
       "    .dataframe tbody tr th {\n",
       "        vertical-align: top;\n",
       "    }\n",
       "\n",
       "    .dataframe thead th {\n",
       "        text-align: right;\n",
       "    }\n",
       "</style>\n",
       "<table border=\"1\" class=\"dataframe\">\n",
       "  <thead>\n",
       "    <tr style=\"text-align: right;\">\n",
       "      <th></th>\n",
       "      <th>Creditability</th>\n",
       "      <th>Balance of current account</th>\n",
       "      <th>Duration in months</th>\n",
       "      <th>Payment of previous credits</th>\n",
       "      <th>Purpose of credit</th>\n",
       "      <th>Amount of credit in DM</th>\n",
       "      <th>Value of savings or stocks</th>\n",
       "      <th>Has been employed by current employer for</th>\n",
       "      <th>Installment in % of available income</th>\n",
       "      <th>Marital Status/Sex</th>\n",
       "      <th>...</th>\n",
       "      <th>Most valuable available assets</th>\n",
       "      <th>Age in years</th>\n",
       "      <th>Further running credits</th>\n",
       "      <th>Type of apartment</th>\n",
       "      <th>Number of previous credits at this bank</th>\n",
       "      <th>Occupation</th>\n",
       "      <th>Number of persons entitled to maintainance</th>\n",
       "      <th>Telephone</th>\n",
       "      <th>Foreign worker</th>\n",
       "      <th>NewVar</th>\n",
       "    </tr>\n",
       "  </thead>\n",
       "  <tbody>\n",
       "    <tr>\n",
       "      <th>0</th>\n",
       "      <td>bad</td>\n",
       "      <td>no running account</td>\n",
       "      <td>36</td>\n",
       "      <td>no problems with current credits at this bank</td>\n",
       "      <td>retraining</td>\n",
       "      <td>2145</td>\n",
       "      <td>no savings</td>\n",
       "      <td>between 4 and 7 years</td>\n",
       "      <td>between 25 and 35</td>\n",
       "      <td>male:single</td>\n",
       "      <td>...</td>\n",
       "      <td>savings contract with a building society/Life ...</td>\n",
       "      <td>24</td>\n",
       "      <td>no further running credits</td>\n",
       "      <td>rented</td>\n",
       "      <td>2 or 3</td>\n",
       "      <td>skilled worker/skilled employee/minor civil se...</td>\n",
       "      <td>3 and more</td>\n",
       "      <td>yes</td>\n",
       "      <td>yes</td>\n",
       "      <td>2.960619</td>\n",
       "    </tr>\n",
       "    <tr>\n",
       "      <th>1</th>\n",
       "      <td>good</td>\n",
       "      <td>no balance</td>\n",
       "      <td>48</td>\n",
       "      <td>hesistant payment of previous credits</td>\n",
       "      <td>retraining</td>\n",
       "      <td>12204</td>\n",
       "      <td>greater than 1000 DM</td>\n",
       "      <td>between 1 and 4 years</td>\n",
       "      <td>between 25 and 35</td>\n",
       "      <td>male:single</td>\n",
       "      <td>...</td>\n",
       "      <td>savings contract with a building society/Life ...</td>\n",
       "      <td>48</td>\n",
       "      <td>at other banks</td>\n",
       "      <td>rented</td>\n",
       "      <td>one</td>\n",
       "      <td>executive/self-employed/higher civil servant</td>\n",
       "      <td>3 and more</td>\n",
       "      <td>yes</td>\n",
       "      <td>yes</td>\n",
       "      <td>2.879810</td>\n",
       "    </tr>\n",
       "    <tr>\n",
       "      <th>2</th>\n",
       "      <td>bad</td>\n",
       "      <td>&gt;=200 DM</td>\n",
       "      <td>36</td>\n",
       "      <td>no previous credits or paid back</td>\n",
       "      <td>used car</td>\n",
       "      <td>10974</td>\n",
       "      <td>no savings</td>\n",
       "      <td>unemployed</td>\n",
       "      <td>less than 20</td>\n",
       "      <td>female:divorced/living apart/married</td>\n",
       "      <td>...</td>\n",
       "      <td>savings contract with a building society/Life ...</td>\n",
       "      <td>26</td>\n",
       "      <td>no further running credits</td>\n",
       "      <td>rented</td>\n",
       "      <td>2 or 3</td>\n",
       "      <td>executive/self-employed/higher civil servant</td>\n",
       "      <td>3 and more</td>\n",
       "      <td>yes</td>\n",
       "      <td>yes</td>\n",
       "      <td>2.592734</td>\n",
       "    </tr>\n",
       "    <tr>\n",
       "      <th>3</th>\n",
       "      <td>good</td>\n",
       "      <td>no running account</td>\n",
       "      <td>24</td>\n",
       "      <td>paid back previous credits at this bank</td>\n",
       "      <td>new car</td>\n",
       "      <td>6419</td>\n",
       "      <td>no savings</td>\n",
       "      <td>greater than 7 years</td>\n",
       "      <td>between 25 and 35</td>\n",
       "      <td>female:divorced/living apart/married</td>\n",
       "      <td>...</td>\n",
       "      <td>ownership of house or land</td>\n",
       "      <td>44</td>\n",
       "      <td>no further running credits</td>\n",
       "      <td>owner</td>\n",
       "      <td>2 or 3</td>\n",
       "      <td>executive/self-employed/higher civil servant</td>\n",
       "      <td>0 to 2</td>\n",
       "      <td>yes</td>\n",
       "      <td>yes</td>\n",
       "      <td>2.576883</td>\n",
       "    </tr>\n",
       "    <tr>\n",
       "      <th>4</th>\n",
       "      <td>good</td>\n",
       "      <td>&gt;=200 DM</td>\n",
       "      <td>24</td>\n",
       "      <td>no previous credits or paid back</td>\n",
       "      <td>retraining</td>\n",
       "      <td>1258</td>\n",
       "      <td>no savings</td>\n",
       "      <td>between 4 and 7 years</td>\n",
       "      <td>less than 20</td>\n",
       "      <td>male:single</td>\n",
       "      <td>...</td>\n",
       "      <td>no assets</td>\n",
       "      <td>25</td>\n",
       "      <td>no further running credits</td>\n",
       "      <td>rented</td>\n",
       "      <td>one</td>\n",
       "      <td>skilled worker/skilled employee/minor civil se...</td>\n",
       "      <td>3 and more</td>\n",
       "      <td>yes</td>\n",
       "      <td>yes</td>\n",
       "      <td>2.527170</td>\n",
       "    </tr>\n",
       "  </tbody>\n",
       "</table>\n",
       "<p>5 rows × 22 columns</p>\n",
       "</div>"
      ],
      "text/plain": [
       "  Creditability Balance of current account  Duration in months  \\\n",
       "0           bad         no running account                  36   \n",
       "1          good                 no balance                  48   \n",
       "2           bad                   >=200 DM                  36   \n",
       "3          good         no running account                  24   \n",
       "4          good                   >=200 DM                  24   \n",
       "\n",
       "                     Payment of previous credits Purpose of credit  \\\n",
       "0  no problems with current credits at this bank        retraining   \n",
       "1          hesistant payment of previous credits        retraining   \n",
       "2               no previous credits or paid back          used car   \n",
       "3        paid back previous credits at this bank           new car   \n",
       "4               no previous credits or paid back        retraining   \n",
       "\n",
       "   Amount of credit in DM Value of savings or stocks  \\\n",
       "0                    2145                 no savings   \n",
       "1                   12204       greater than 1000 DM   \n",
       "2                   10974                 no savings   \n",
       "3                    6419                 no savings   \n",
       "4                    1258                 no savings   \n",
       "\n",
       "  Has been employed by current employer for  \\\n",
       "0                     between 4 and 7 years   \n",
       "1                     between 1 and 4 years   \n",
       "2                                unemployed   \n",
       "3                      greater than 7 years   \n",
       "4                     between 4 and 7 years   \n",
       "\n",
       "  Installment in % of available income                    Marital Status/Sex  \\\n",
       "0                    between 25 and 35                           male:single   \n",
       "1                    between 25 and 35                           male:single   \n",
       "2                         less than 20  female:divorced/living apart/married   \n",
       "3                    between 25 and 35  female:divorced/living apart/married   \n",
       "4                         less than 20                           male:single   \n",
       "\n",
       "     ...                        Most valuable available assets Age in years  \\\n",
       "0    ...     savings contract with a building society/Life ...           24   \n",
       "1    ...     savings contract with a building society/Life ...           48   \n",
       "2    ...     savings contract with a building society/Life ...           26   \n",
       "3    ...                            ownership of house or land           44   \n",
       "4    ...                                             no assets           25   \n",
       "\n",
       "      Further running credits  Type of apartment  \\\n",
       "0  no further running credits             rented   \n",
       "1              at other banks             rented   \n",
       "2  no further running credits             rented   \n",
       "3  no further running credits              owner   \n",
       "4  no further running credits             rented   \n",
       "\n",
       "  Number of previous credits at this bank  \\\n",
       "0                                  2 or 3   \n",
       "1                                     one   \n",
       "2                                  2 or 3   \n",
       "3                                  2 or 3   \n",
       "4                                     one   \n",
       "\n",
       "                                          Occupation  \\\n",
       "0  skilled worker/skilled employee/minor civil se...   \n",
       "1       executive/self-employed/higher civil servant   \n",
       "2       executive/self-employed/higher civil servant   \n",
       "3       executive/self-employed/higher civil servant   \n",
       "4  skilled worker/skilled employee/minor civil se...   \n",
       "\n",
       "  Number of persons entitled to maintainance Telephone Foreign worker  \\\n",
       "0                                 3 and more       yes            yes   \n",
       "1                                 3 and more       yes            yes   \n",
       "2                                 3 and more       yes            yes   \n",
       "3                                     0 to 2       yes            yes   \n",
       "4                                 3 and more       yes            yes   \n",
       "\n",
       "     NewVar  \n",
       "0  2.960619  \n",
       "1  2.879810  \n",
       "2  2.592734  \n",
       "3  2.576883  \n",
       "4  2.527170  \n",
       "\n",
       "[5 rows x 22 columns]"
      ]
     },
     "execution_count": 38,
     "metadata": {},
     "output_type": "execute_result"
    }
   ],
   "source": [
    "data.head()"
   ]
  },
  {
   "cell_type": "code",
   "execution_count": 5,
   "metadata": {},
   "outputs": [
    {
     "data": {
      "text/plain": [
       "Index(['Creditability', 'Balance of current account', 'Duration in months',\n",
       "       'Payment of previous credits', 'Purpose of credit',\n",
       "       'Amount of credit in DM', 'Value of savings or stocks',\n",
       "       'Has been employed by current employer for',\n",
       "       'Installment in % of available income', 'Marital Status/Sex',\n",
       "       'Further debtors/Guarantors', 'Living in current household for',\n",
       "       'Most valuable available assets', 'Age in years',\n",
       "       'Further running credits', 'Type of apartment',\n",
       "       'Number of previous credits at this bank', 'Occupation',\n",
       "       'Number of persons entitled to maintainance', 'Telephone',\n",
       "       'Foreign worker', 'NewVar'],\n",
       "      dtype='object')"
      ]
     },
     "execution_count": 5,
     "metadata": {},
     "output_type": "execute_result"
    }
   ],
   "source": [
    "data.columns"
   ]
  },
  {
   "cell_type": "code",
   "execution_count": 6,
   "metadata": {},
   "outputs": [
    {
     "data": {
      "text/plain": [
       "dict_keys(['Creditability', 'Balance of current account', 'Payment of previous credits', 'Purpose of credit', 'Value of savings or stocks', 'Has been employed by current employer for', 'Installment in % of available income', 'Marital Status/Sex', 'Further debtors/Guarantors', 'Living in current household for', 'Most valuable available assets', 'Further running credits', 'Type of apartment', 'Number of previous credits at this bank', 'Occupation', 'Number of persons entitled to maintainance', 'Telephone', 'Foreign worker'])"
      ]
     },
     "execution_count": 6,
     "metadata": {},
     "output_type": "execute_result"
    }
   ],
   "source": [
    "facotrize_dict.keys()"
   ]
  },
  {
   "cell_type": "markdown",
   "metadata": {},
   "source": [
    "# Explore the Dependent variable"
   ]
  },
  {
   "cell_type": "code",
   "execution_count": 26,
   "metadata": {},
   "outputs": [],
   "source": [
    "y_stat = data[\"Creditability\"].value_counts().sort_index()"
   ]
  },
  {
   "cell_type": "code",
   "execution_count": 27,
   "metadata": {},
   "outputs": [
    {
     "data": {
      "text/plain": [
       "<matplotlib.axes._subplots.AxesSubplot at 0x193577ea240>"
      ]
     },
     "execution_count": 27,
     "metadata": {},
     "output_type": "execute_result"
    },
    {
     "data": {
      "image/png": "[encoded data removed]",
      "text/plain": [
       "<matplotlib.figure.Figure at 0x193577087b8>"
      ]
     },
     "metadata": {
      "needs_background": "light"
     },
     "output_type": "display_data"
    }
   ],
   "source": [
    "y_stat.plot(\"bar\",rot = 0,title = \"The distribution of the Creditability\")"
   ]
  },
  {
   "cell_type": "code",
   "execution_count": 32,
   "metadata": {},
   "outputs": [
    {
     "data": {
      "text/plain": [
       "<matplotlib.axes._subplots.AxesSubplot at 0x193591314e0>"
      ]
     },
     "execution_count": 32,
     "metadata": {},
     "output_type": "execute_result"
    },
    {
     "data": {
      "image/png": "[encoded data removed]",
      "text/plain": [
       "<matplotlib.figure.Figure at 0x19357754978>"
      ]
     },
     "metadata": {},
     "output_type": "display_data"
    }
   ],
   "source": [
    "(y_stat/y_stat.sum()).plot(\"pie\")"
   ]
  },
  {
   "cell_type": "markdown",
   "metadata": {},
   "source": [
    "This is an imbalanced dataset. The \"good\" label is 70% of total dataset. Which means that, if the model only predict \"good\", it will got 70% accuracy, the case we don't want\n",
    "\n",
    "There are two methods to solve this problem:\n",
    " - sampling\n",
    "     - oversampling: Can be use but my lead to overfitting problems\n",
    "     - undersampling: This method is not suitable for this case because we only has 1000 observations\n",
    " - Change the class weights: In keras, you can simply set class_weight = {0:0.7,1:0.3}, the opposite of ratio."
   ]
  },
  {
   "cell_type": "code",
   "execution_count": 8,
   "metadata": {},
   "outputs": [
    {
     "name": "stdout",
     "output_type": "stream",
     "text": [
      "(1000, 21) (1000,)\n"
     ]
    }
   ],
   "source": [
    "y = data['Creditability'].cat.codes\n",
    "X = data.drop('Creditability',axis = 1)\n",
    "print(X.shape,y.shape)\n",
    "X_train, X_test, y_train, y_test = train_test_split(X, y, test_size=0.3, random_state=42)"
   ]
  },
  {
   "cell_type": "code",
   "execution_count": 9,
   "metadata": {},
   "outputs": [
    {
     "name": "stdout",
     "output_type": "stream",
     "text": [
      "(72,)\n"
     ]
    }
   ],
   "source": [
    "cat_columns =[]\n",
    "for col in X_train.columns:\n",
    "    if X_train[col].dtype != np.int64 and X_train[col].dtype != np.float64 and X_train[col].dtype == \"category\":\n",
    "        cat_columns.append(col)\n",
    "cat_columns\n",
    "NN_X_train = pd.get_dummies(X_train,columns = cat_columns)\n",
    "NN_X_test = pd.get_dummies(X_test,columns = cat_columns)\n",
    "\n",
    "input_shape = (NN_X_train.shape[1],)\n",
    "print(input_shape)"
   ]
  },
  {
   "cell_type": "markdown",
   "metadata": {},
   "source": [
    "# Neural Network"
   ]
  },
  {
   "cell_type": "code",
   "execution_count": 33,
   "metadata": {},
   "outputs": [
    {
     "name": "stdout",
     "output_type": "stream",
     "text": [
      "Train on 700 samples, validate on 300 samples\n",
      "Epoch 1/1000\n",
      "700/700 [==============================] - 0s 372us/step - loss: 2.9223 - acc: 0.4043 - val_loss: 10.9342 - val_acc: 0.2967\n",
      "\n",
      "Epoch 00001: val_loss improved from inf to 10.93422, saving model to 686_case3_model.hdf5\n",
      "Epoch 2/1000\n",
      "700/700 [==============================] - 0s 64us/step - loss: 3.1387 - acc: 0.3186 - val_loss: 10.3206 - val_acc: 0.3067\n",
      "\n",
      "Epoch 00002: val_loss improved from 10.93422 to 10.32058, saving model to 686_case3_model.hdf5\n",
      "Epoch 3/1000\n",
      "700/700 [==============================] - 0s 64us/step - loss: 2.8754 - acc: 0.4643 - val_loss: 10.2458 - val_acc: 0.3067\n",
      "\n",
      "Epoch 00003: val_loss improved from 10.32058 to 10.24585, saving model to 686_case3_model.hdf5\n",
      "Epoch 4/1000\n",
      "700/700 [==============================] - 0s 70us/step - loss: 2.5512 - acc: 0.4629 - val_loss: 10.3850 - val_acc: 0.3067\n",
      "\n",
      "Epoch 00004: val_loss did not improve from 10.24585\n",
      "Epoch 5/1000\n",
      "700/700 [==============================] - 0s 70us/step - loss: 2.6618 - acc: 0.5371 - val_loss: 6.3052 - val_acc: 0.3667\n",
      "\n",
      "Epoch 00005: val_loss improved from 10.24585 to 6.30523, saving model to 686_case3_model.hdf5\n",
      "Epoch 6/1000\n",
      "700/700 [==============================] - 0s 64us/step - loss: 2.4309 - acc: 0.5286 - val_loss: 9.4227 - val_acc: 0.3100\n",
      "\n",
      "Epoch 00006: val_loss did not improve from 6.30523\n",
      "Epoch 7/1000\n",
      "700/700 [==============================] - 0s 67us/step - loss: 3.0550 - acc: 0.6371 - val_loss: 4.6140 - val_acc: 0.7033\n",
      "\n",
      "Epoch 00007: val_loss improved from 6.30523 to 4.61399, saving model to 686_case3_model.hdf5\n",
      "Epoch 8/1000\n",
      "700/700 [==============================] - 0s 68us/step - loss: 2.9609 - acc: 0.5886 - val_loss: 10.8806 - val_acc: 0.2967\n",
      "\n",
      "Epoch 00008: val_loss did not improve from 4.61399\n",
      "Epoch 9/1000\n",
      "700/700 [==============================] - 0s 70us/step - loss: 2.7101 - acc: 0.4557 - val_loss: 4.6901 - val_acc: 0.7033\n",
      "\n",
      "Epoch 00009: val_loss did not improve from 4.61399\n",
      "Epoch 10/1000\n",
      "700/700 [==============================] - 0s 70us/step - loss: 2.9004 - acc: 0.6671 - val_loss: 4.3190 - val_acc: 0.7033\n",
      "\n",
      "Epoch 00010: val_loss improved from 4.61399 to 4.31902, saving model to 686_case3_model.hdf5\n",
      "Epoch 11/1000\n",
      "700/700 [==============================] - 0s 67us/step - loss: 2.7051 - acc: 0.5043 - val_loss: 10.9072 - val_acc: 0.2967\n",
      "\n",
      "Epoch 00011: val_loss did not improve from 4.31902\n",
      "Epoch 12/1000\n",
      "700/700 [==============================] - 0s 68us/step - loss: 2.5516 - acc: 0.5100 - val_loss: 4.3174 - val_acc: 0.7033\n",
      "\n",
      "Epoch 00012: val_loss improved from 4.31902 to 4.31741, saving model to 686_case3_model.hdf5\n",
      "Epoch 13/1000\n",
      "700/700 [==============================] - 0s 67us/step - loss: 2.9934 - acc: 0.3857 - val_loss: 7.8095 - val_acc: 0.3200\n",
      "\n",
      "Epoch 00013: val_loss did not improve from 4.31741\n",
      "Epoch 14/1000\n",
      "700/700 [==============================] - 0s 68us/step - loss: 3.1771 - acc: 0.3271 - val_loss: 10.7962 - val_acc: 0.2967\n",
      "\n",
      "Epoch 00014: val_loss did not improve from 4.31741\n",
      "Epoch 15/1000\n",
      "700/700 [==============================] - 0s 67us/step - loss: 2.9076 - acc: 0.4929 - val_loss: 10.7791 - val_acc: 0.2967\n",
      "\n",
      "Epoch 00015: val_loss did not improve from 4.31741\n",
      "Epoch 16/1000\n",
      "700/700 [==============================] - 0s 67us/step - loss: 2.7042 - acc: 0.5271 - val_loss: 3.9162 - val_acc: 0.7033\n",
      "\n",
      "Epoch 00016: val_loss improved from 4.31741 to 3.91615, saving model to 686_case3_model.hdf5\n",
      "Epoch 17/1000\n",
      "700/700 [==============================] - 0s 64us/step - loss: 2.6922 - acc: 0.4843 - val_loss: 10.3497 - val_acc: 0.2967\n",
      "\n",
      "Epoch 00017: val_loss did not improve from 3.91615\n",
      "Epoch 18/1000\n",
      "700/700 [==============================] - 0s 66us/step - loss: 2.8896 - acc: 0.3343 - val_loss: 8.8779 - val_acc: 0.3267\n",
      "\n",
      "Epoch 00018: val_loss did not improve from 3.91615\n",
      "Epoch 19/1000\n",
      "700/700 [==============================] - 0s 70us/step - loss: 2.5552 - acc: 0.4971 - val_loss: 4.7296 - val_acc: 0.7033\n",
      "\n",
      "Epoch 00019: val_loss did not improve from 3.91615\n",
      "Epoch 20/1000\n",
      "700/700 [==============================] - 0s 67us/step - loss: 3.0505 - acc: 0.5700 - val_loss: 9.4659 - val_acc: 0.3067\n",
      "\n",
      "Epoch 00020: val_loss did not improve from 3.91615\n",
      "Epoch 21/1000\n",
      "700/700 [==============================] - 0s 71us/step - loss: 2.7349 - acc: 0.3871 - val_loss: 10.6715 - val_acc: 0.3000\n",
      "\n",
      "Epoch 00021: val_loss did not improve from 3.91615\n",
      "Epoch 22/1000\n",
      "700/700 [==============================] - 0s 68us/step - loss: 2.4700 - acc: 0.4800 - val_loss: 9.9985 - val_acc: 0.3100\n",
      "\n",
      "Epoch 00022: val_loss did not improve from 3.91615\n",
      "Epoch 23/1000\n",
      "700/700 [==============================] - 0s 70us/step - loss: 2.3934 - acc: 0.4929 - val_loss: 4.2623 - val_acc: 0.7033\n",
      "\n",
      "Epoch 00023: val_loss did not improve from 3.91615\n",
      "Epoch 24/1000\n",
      "700/700 [==============================] - 0s 68us/step - loss: 2.0971 - acc: 0.5043 - val_loss: 8.1894 - val_acc: 0.3533\n",
      "\n",
      "Epoch 00024: val_loss did not improve from 3.91615\n",
      "Epoch 25/1000\n",
      "700/700 [==============================] - 0s 68us/step - loss: 2.2443 - acc: 0.4843 - val_loss: 10.4067 - val_acc: 0.3033\n",
      "\n",
      "Epoch 00025: val_loss did not improve from 3.91615\n",
      "Epoch 26/1000\n",
      "700/700 [==============================] - 0s 67us/step - loss: 2.5550 - acc: 0.3771 - val_loss: 9.0629 - val_acc: 0.3433\n",
      "\n",
      "Epoch 00026: val_loss did not improve from 3.91615\n",
      "Epoch 27/1000\n",
      "700/700 [==============================] - 0s 67us/step - loss: 2.1514 - acc: 0.4329 - val_loss: 8.0193 - val_acc: 0.3567\n",
      "\n",
      "Epoch 00027: val_loss did not improve from 3.91615\n",
      "Epoch 28/1000\n",
      "700/700 [==============================] - 0s 64us/step - loss: 1.9561 - acc: 0.5100 - val_loss: 6.9382 - val_acc: 0.4000\n",
      "\n",
      "Epoch 00028: val_loss did not improve from 3.91615\n",
      "Epoch 29/1000\n",
      "700/700 [==============================] - 0s 71us/step - loss: 1.7841 - acc: 0.5771 - val_loss: 9.9542 - val_acc: 0.3233\n",
      "\n",
      "Epoch 00029: val_loss did not improve from 3.91615\n",
      "Epoch 30/1000\n",
      "700/700 [==============================] - 0s 81us/step - loss: 1.8452 - acc: 0.5114 - val_loss: 7.7823 - val_acc: 0.3567\n",
      "\n",
      "Epoch 00030: val_loss did not improve from 3.91615\n",
      "Epoch 31/1000\n",
      "700/700 [==============================] - 0s 68us/step - loss: 1.6383 - acc: 0.5514 - val_loss: 3.0847 - val_acc: 0.7033\n",
      "\n",
      "Epoch 00031: val_loss improved from 3.91615 to 3.08470, saving model to 686_case3_model.hdf5\n",
      "Epoch 32/1000\n",
      "700/700 [==============================] - 0s 68us/step - loss: 1.9475 - acc: 0.4929 - val_loss: 4.4493 - val_acc: 0.5033\n",
      "\n",
      "Epoch 00032: val_loss did not improve from 3.08470\n",
      "Epoch 33/1000\n",
      "700/700 [==============================] - 0s 67us/step - loss: 1.7427 - acc: 0.5314 - val_loss: 7.7478 - val_acc: 0.3633\n",
      "\n",
      "Epoch 00033: val_loss did not improve from 3.08470\n",
      "Epoch 34/1000\n",
      "700/700 [==============================] - 0s 66us/step - loss: 1.7805 - acc: 0.5143 - val_loss: 6.6082 - val_acc: 0.4000\n",
      "\n",
      "Epoch 00034: val_loss did not improve from 3.08470\n",
      "Epoch 35/1000\n",
      "700/700 [==============================] - 0s 66us/step - loss: 1.6169 - acc: 0.5414 - val_loss: 7.4462 - val_acc: 0.3700\n",
      "\n",
      "Epoch 00035: val_loss did not improve from 3.08470\n",
      "Epoch 36/1000\n",
      "700/700 [==============================] - 0s 64us/step - loss: 1.8132 - acc: 0.5429 - val_loss: 3.2683 - val_acc: 0.7033\n",
      "\n",
      "Epoch 00036: val_loss did not improve from 3.08470\n",
      "Epoch 37/1000\n",
      "700/700 [==============================] - 0s 64us/step - loss: 1.8974 - acc: 0.4900 - val_loss: 3.1195 - val_acc: 0.7033\n",
      "\n",
      "Epoch 00037: val_loss did not improve from 3.08470\n",
      "Epoch 38/1000\n",
      "700/700 [==============================] - 0s 70us/step - loss: 1.8899 - acc: 0.4957 - val_loss: 1.1951 - val_acc: 0.7600\n",
      "\n",
      "Epoch 00038: val_loss improved from 3.08470 to 1.19509, saving model to 686_case3_model.hdf5\n",
      "Epoch 39/1000\n",
      "700/700 [==============================] - 0s 70us/step - loss: 1.8739 - acc: 0.4943 - val_loss: 6.0603 - val_acc: 0.4333\n",
      "\n",
      "Epoch 00039: val_loss did not improve from 1.19509\n",
      "Epoch 40/1000\n",
      "700/700 [==============================] - 0s 68us/step - loss: 1.7261 - acc: 0.5086 - val_loss: 4.2399 - val_acc: 0.5300\n",
      "\n",
      "Epoch 00040: val_loss did not improve from 1.19509\n",
      "Epoch 41/1000\n",
      "700/700 [==============================] - 0s 67us/step - loss: 1.5402 - acc: 0.5557 - val_loss: 4.4515 - val_acc: 0.5100\n",
      "\n",
      "Epoch 00041: val_loss did not improve from 1.19509\n",
      "Epoch 42/1000\n"
     ]
    },
    {
     "name": "stdout",
     "output_type": "stream",
     "text": [
      "700/700 [==============================] - 0s 71us/step - loss: 1.9819 - acc: 0.4743 - val_loss: 3.2568 - val_acc: 0.7033\n",
      "\n",
      "Epoch 00042: val_loss did not improve from 1.19509\n",
      "Epoch 43/1000\n",
      "700/700 [==============================] - 0s 67us/step - loss: 1.7262 - acc: 0.5486 - val_loss: 1.2874 - val_acc: 0.7367\n",
      "\n",
      "Epoch 00043: val_loss did not improve from 1.19509\n",
      "Epoch 44/1000\n",
      "700/700 [==============================] - 0s 64us/step - loss: 1.7837 - acc: 0.5957 - val_loss: 8.6375 - val_acc: 0.3467\n",
      "\n",
      "Epoch 00044: val_loss did not improve from 1.19509\n",
      "Epoch 45/1000\n",
      "700/700 [==============================] - 0s 68us/step - loss: 1.6317 - acc: 0.5271 - val_loss: 4.1714 - val_acc: 0.7033\n",
      "\n",
      "Epoch 00045: val_loss did not improve from 1.19509\n",
      "Epoch 46/1000\n",
      "700/700 [==============================] - 0s 67us/step - loss: 1.8635 - acc: 0.5486 - val_loss: 7.3683 - val_acc: 0.3967\n",
      "\n",
      "Epoch 00046: val_loss did not improve from 1.19509\n",
      "Epoch 47/1000\n",
      "700/700 [==============================] - 0s 66us/step - loss: 1.6662 - acc: 0.5714 - val_loss: 4.5214 - val_acc: 0.7033\n",
      "\n",
      "Epoch 00047: val_loss did not improve from 1.19509\n",
      "Epoch 48/1000\n",
      "700/700 [==============================] - 0s 63us/step - loss: 2.0079 - acc: 0.5386 - val_loss: 1.5743 - val_acc: 0.6800\n",
      "\n",
      "Epoch 00048: val_loss did not improve from 1.19509\n",
      "Epoch 49/1000\n",
      "700/700 [==============================] - 0s 64us/step - loss: 1.6231 - acc: 0.5786 - val_loss: 7.4221 - val_acc: 0.3900\n",
      "\n",
      "Epoch 00049: val_loss did not improve from 1.19509\n",
      "Epoch 50/1000\n",
      "700/700 [==============================] - 0s 66us/step - loss: 1.3249 - acc: 0.6000 - val_loss: 7.5030 - val_acc: 0.3800\n",
      "\n",
      "Epoch 00050: val_loss did not improve from 1.19509\n",
      "Epoch 51/1000\n",
      "700/700 [==============================] - 0s 67us/step - loss: 1.3700 - acc: 0.5943 - val_loss: 6.0725 - val_acc: 0.4400\n",
      "\n",
      "Epoch 00051: val_loss did not improve from 1.19509\n",
      "Epoch 52/1000\n",
      "700/700 [==============================] - 0s 64us/step - loss: 1.2928 - acc: 0.5986 - val_loss: 1.4846 - val_acc: 0.6533\n",
      "\n",
      "Epoch 00052: val_loss did not improve from 1.19509\n",
      "Epoch 53/1000\n",
      "700/700 [==============================] - 0s 67us/step - loss: 1.4348 - acc: 0.5771 - val_loss: 7.9494 - val_acc: 0.3467\n",
      "\n",
      "Epoch 00053: val_loss did not improve from 1.19509\n",
      "Epoch 54/1000\n",
      "700/700 [==============================] - 0s 64us/step - loss: 1.6584 - acc: 0.5229 - val_loss: 2.9372 - val_acc: 0.5567\n",
      "\n",
      "Epoch 00054: val_loss did not improve from 1.19509\n",
      "Epoch 55/1000\n",
      "700/700 [==============================] - 0s 66us/step - loss: 1.0769 - acc: 0.6600 - val_loss: 7.4412 - val_acc: 0.3700\n",
      "\n",
      "Epoch 00055: val_loss did not improve from 1.19509\n",
      "Epoch 56/1000\n",
      "700/700 [==============================] - 0s 70us/step - loss: 1.4033 - acc: 0.5814 - val_loss: 3.2084 - val_acc: 0.7033\n",
      "\n",
      "Epoch 00056: val_loss did not improve from 1.19509\n",
      "Epoch 57/1000\n",
      "700/700 [==============================] - 0s 71us/step - loss: 1.4358 - acc: 0.6357 - val_loss: 2.6833 - val_acc: 0.7167\n",
      "\n",
      "Epoch 00057: val_loss did not improve from 1.19509\n",
      "Epoch 58/1000\n",
      "700/700 [==============================] - 0s 71us/step - loss: 1.2995 - acc: 0.6286 - val_loss: 1.7224 - val_acc: 0.6067\n",
      "\n",
      "Epoch 00058: val_loss did not improve from 1.19509\n",
      "Epoch 00058: early stopping\n"
     ]
    },
    {
     "data": {
      "image/png": "[encoded data removed]",
      "text/plain": [
       "<matplotlib.figure.Figure at 0x193625d2b70>"
      ]
     },
     "metadata": {
      "needs_background": "light"
     },
     "output_type": "display_data"
    },
    {
     "data": {
      "image/png": "[encoded data removed]",
      "text/plain": [
       "<matplotlib.figure.Figure at 0x193628df780>"
      ]
     },
     "metadata": {
      "needs_background": "light"
     },
     "output_type": "display_data"
    },
    {
     "data": {
      "image/png": "[encoded data removed]",
      "text/plain": [
       "<matplotlib.figure.Figure at 0x193639212e8>"
      ]
     },
     "metadata": {
      "needs_background": "light"
     },
     "output_type": "display_data"
    },
    {
     "name": "stdout",
     "output_type": "stream",
     "text": [
      "Best training accuracy 0.76\n"
     ]
    }
   ],
   "source": [
    "from keras.models import Sequential\n",
    "from keras.layers import Dense, Activation\n",
    "\n",
    "from keras.callbacks import EarlyStopping, ModelCheckpoint, ReduceLROnPlateau\n",
    "\n",
    "l2_rate = 0.001\n",
    "dropout_rate = 0.6\n",
    "middle_layers = 5\n",
    "epochs = 1000\n",
    "batch_size = 32\n",
    "reduce_lr = ReduceLROnPlateau(monitor='val_loss', factor=0.8,\n",
    "                              patience=10, min_lr=0.00001)\n",
    "check_point = ModelCheckpoint('686_case3_model.hdf5',monitor='val_loss',verbose=True, save_best_only=True)\n",
    "NN_early_stop = EarlyStopping(monitor='val_loss',patience=20,verbose=True)\n",
    "\n",
    "model = Sequential([\n",
    "    Dense(32, input_shape=input_shape,activation = 'relu' ),\n",
    "   # Dense(32, input_shape=input_shape,kernel_initializer =kernel_initializer,activation = 'relu' ),\n",
    "    Dense(1,activation = 'sigmoid'  ),\n",
    "])\n",
    "\n",
    "model.compile(optimizer='rmsprop',\n",
    "              loss='binary_crossentropy',\n",
    "              metrics=['accuracy'])\n",
    "\n",
    "history = model.fit(\n",
    "                        NN_X_train, y_train,\n",
    "                        epochs=epochs,\n",
    "                        batch_size= batch_size,\n",
    "                        validation_data=( NN_X_test, y_test),\n",
    "                        verbose = 1,\n",
    "                        initial_epoch = 0,\n",
    "                        class_weight = {0:0.7,1:0.3},\n",
    "                        callbacks=[\n",
    "                        NN_early_stop,\n",
    "                       check_point, \n",
    "                        reduce_lr])\n",
    "\n",
    "plt.figure(figsize =  (8,5))\n",
    "#plt.plot(history.history['quadratic_weighted_kappa'])\n",
    "plt.plot(history.history['loss'])\n",
    "plt.plot(history.history['val_loss'])\n",
    "plt.title('Model  loss')\n",
    "plt.ylabel('Metric')\n",
    "plt.xlabel('Epoch')\n",
    "plt.legend(['loss', 'val_loss'], loc='best')\n",
    "plt.show()\n",
    "\n",
    "plt.plot(history.history['acc'])\n",
    "plt.plot(history.history['val_acc'])\n",
    "plt.title('Model  acc')\n",
    "plt.ylabel('Metric')\n",
    "plt.xlabel('Epoch')\n",
    "plt.legend(['acc', 'val_acc'], loc='best')\n",
    "plt.show()\n",
    "\n",
    "plt.figure(figsize =  (8,5))\n",
    "#plt.plot(history.history['quadratic_weighted_kappa'])\n",
    "plt.plot(history.history['lr'])\n",
    "plt.title('Model  lr')\n",
    "plt.ylabel('lr')\n",
    "plt.xlabel('Epochs')\n",
    "plt.show()\n",
    "print('Best training accuracy',max(history.history['val_acc']))"
   ]
  },
  {
   "cell_type": "code",
   "execution_count": 35,
   "metadata": {},
   "outputs": [],
   "source": [
    "NN_base_model = load_model('686_case3_model.hdf5')\n",
    "NN_train_pred = NN_base_model.predict(NN_X_train).reshape(len(NN_X_train),)\n",
    "NN_test_pred = NN_base_model.predict(NN_X_test).reshape(len(NN_X_test),)"
   ]
  },
  {
   "cell_type": "code",
   "execution_count": 37,
   "metadata": {},
   "outputs": [
    {
     "data": {
      "text/html": [
       "<div>\n",
       "<style scoped>\n",
       "    .dataframe tbody tr th:only-of-type {\n",
       "        vertical-align: middle;\n",
       "    }\n",
       "\n",
       "    .dataframe tbody tr th {\n",
       "        vertical-align: top;\n",
       "    }\n",
       "\n",
       "    .dataframe thead th {\n",
       "        text-align: right;\n",
       "    }\n",
       "</style>\n",
       "<table border=\"1\" class=\"dataframe\">\n",
       "  <thead>\n",
       "    <tr style=\"text-align: right;\">\n",
       "      <th></th>\n",
       "      <th>True Negative</th>\n",
       "      <th>False Positve</th>\n",
       "      <th>False Negative</th>\n",
       "      <th>True Positive</th>\n",
       "    </tr>\n",
       "  </thead>\n",
       "  <tbody>\n",
       "    <tr>\n",
       "      <th>Training Data</th>\n",
       "      <td>138</td>\n",
       "      <td>73</td>\n",
       "      <td>437</td>\n",
       "      <td>52</td>\n",
       "    </tr>\n",
       "    <tr>\n",
       "      <th>Validation</th>\n",
       "      <td>56</td>\n",
       "      <td>33</td>\n",
       "      <td>195</td>\n",
       "      <td>16</td>\n",
       "    </tr>\n",
       "  </tbody>\n",
       "</table>\n",
       "</div>"
      ],
      "text/plain": [
       "               True Negative  False Positve  False Negative  True Positive\n",
       "Training Data            138             73             437             52\n",
       "Validation                56             33             195             16"
      ]
     },
     "execution_count": 37,
     "metadata": {},
     "output_type": "execute_result"
    },
    {
     "data": {
      "image/png": "[encoded data removed]",
      "text/plain": [
       "<matplotlib.figure.Figure at 0x193639d0f60>"
      ]
     },
     "metadata": {
      "needs_background": "light"
     },
     "output_type": "display_data"
    }
   ],
   "source": [
    "roc_plot(y_test, NN_test_pred,'Neural Network')\n",
    "a,b = summary_tables(NN_train_pred,y_train,NN_test_pred,y_test,threshold = 0.5)\n",
    "a"
   ]
  },
  {
   "cell_type": "code",
   "execution_count": 39,
   "metadata": {},
   "outputs": [
    {
     "data": {
      "text/html": [
       "<div>\n",
       "<style scoped>\n",
       "    .dataframe tbody tr th:only-of-type {\n",
       "        vertical-align: middle;\n",
       "    }\n",
       "\n",
       "    .dataframe tbody tr th {\n",
       "        vertical-align: top;\n",
       "    }\n",
       "\n",
       "    .dataframe thead th {\n",
       "        text-align: right;\n",
       "    }\n",
       "</style>\n",
       "<table border=\"1\" class=\"dataframe\">\n",
       "  <thead>\n",
       "    <tr style=\"text-align: right;\">\n",
       "      <th></th>\n",
       "      <th>Bad(Predict Negative)</th>\n",
       "      <th>Good(Predict Positve)</th>\n",
       "      <th>Row Total</th>\n",
       "    </tr>\n",
       "  </thead>\n",
       "  <tbody>\n",
       "    <tr>\n",
       "      <th>Bad(Observed)</th>\n",
       "      <td>56.00</td>\n",
       "      <td>33.00</td>\n",
       "      <td>89.0</td>\n",
       "    </tr>\n",
       "    <tr>\n",
       "      <th>Pecentage Negative</th>\n",
       "      <td>0.63</td>\n",
       "      <td>0.37</td>\n",
       "      <td>1.0</td>\n",
       "    </tr>\n",
       "    <tr>\n",
       "      <th>Good(Observed)</th>\n",
       "      <td>195.00</td>\n",
       "      <td>16.00</td>\n",
       "      <td>211.0</td>\n",
       "    </tr>\n",
       "    <tr>\n",
       "      <th>Pecentage Positive</th>\n",
       "      <td>0.92</td>\n",
       "      <td>0.08</td>\n",
       "      <td>1.0</td>\n",
       "    </tr>\n",
       "    <tr>\n",
       "      <th>Column Total</th>\n",
       "      <td>252.55</td>\n",
       "      <td>49.45</td>\n",
       "      <td>302.0</td>\n",
       "    </tr>\n",
       "  </tbody>\n",
       "</table>\n",
       "</div>"
      ],
      "text/plain": [
       "                    Bad(Predict Negative)  Good(Predict Positve)  Row Total\n",
       "Bad(Observed)                       56.00                  33.00       89.0\n",
       "Pecentage Negative                   0.63                   0.37        1.0\n",
       "Good(Observed)                     195.00                  16.00      211.0\n",
       "Pecentage Positive                   0.92                   0.08        1.0\n",
       "Column Total                       252.55                  49.45      302.0"
      ]
     },
     "execution_count": 39,
     "metadata": {},
     "output_type": "execute_result"
    }
   ],
   "source": [
    "b"
   ]
  },
  {
   "cell_type": "markdown",
   "metadata": {},
   "source": [
    "# LightGBM"
   ]
  },
  {
   "cell_type": "code",
   "execution_count": 14,
   "metadata": {},
   "outputs": [
    {
     "name": "stderr",
     "output_type": "stream",
     "text": [
      "e:\\Users\\Administrator\\Anaconda3\\lib\\site-packages\\lightgbm\\engine.py:116: UserWarning: Found `num_trees` in params. Will use it instead of argument\n",
      "  warnings.warn(\"Found `{}` in params. Will use it instead of argument\".format(alias))\n",
      "e:\\Users\\Administrator\\Anaconda3\\lib\\site-packages\\lightgbm\\basic.py:752: UserWarning: categorical_feature in param dict is overridden.\n",
      "  warnings.warn('categorical_feature in param dict is overridden.')\n"
     ]
    },
    {
     "name": "stdout",
     "output_type": "stream",
     "text": [
      "Training until validation scores don't improve for 500 rounds.\n",
      "[100]\ttraining's auc: 1\tvalid_1's auc: 0.744768\n",
      "[200]\ttraining's auc: 1\tvalid_1's auc: 0.736141\n",
      "Did not meet early stopping. Best iteration is:\n",
      "[68]\ttraining's auc: 1\tvalid_1's auc: 0.751744\n"
     ]
    }
   ],
   "source": [
    "import lightgbm as lgb\n",
    "param = {'num_leaves':200, \n",
    "         'num_trees':200, \n",
    "         'metric': ['auc'],\n",
    "        'max_bin' : 500\n",
    "        }\n",
    "# Additional parameters:\n",
    "early_stop = 500\n",
    "verbose_eval = 100\n",
    "num_rounds = 10000\n",
    "n_splits = 5\n",
    "\n",
    "d_train = lgb.Dataset(X_train, label=y_train)\n",
    "d_valid = lgb.Dataset(X_test, label=y_test)\n",
    "watchlist = [d_train, d_valid]\n",
    "\n",
    "GBM_model = lgb.train(param,\n",
    "                  train_set=d_train,\n",
    "                  num_boost_round=num_rounds,\n",
    "                  valid_sets=watchlist,\n",
    "                  verbose_eval=verbose_eval,\n",
    "                  early_stopping_rounds=early_stop)"
   ]
  },
  {
   "cell_type": "code",
   "execution_count": 15,
   "metadata": {},
   "outputs": [
    {
     "data": {
      "image/png": "[encoded data removed]",
      "text/plain": [
       "<matplotlib.figure.Figure at 0x1d45fdbd7f0>"
      ]
     },
     "metadata": {
      "needs_background": "light"
     },
     "output_type": "display_data"
    }
   ],
   "source": [
    "ax = lgb.plot_importance(GBM_model)\n",
    "plt.show()"
   ]
  },
  {
   "cell_type": "code",
   "execution_count": 16,
   "metadata": {},
   "outputs": [],
   "source": [
    "gbm_train_pred = GBM_model.predict(X_train, num_iteration=GBM_model.best_iteration)\n",
    "gbm_test_pred = GBM_model.predict(X_test, num_iteration=GBM_model.best_iteration)"
   ]
  },
  {
   "cell_type": "code",
   "execution_count": 17,
   "metadata": {},
   "outputs": [
    {
     "data": {
      "text/plain": [
       "'\\n# Compute fpr, tpr, thresholds and roc auc\\nfpr, tpr, thresholds = roc_curve(y_train, gbm_train_pred,pos_label = 1)\\nroc_auc = auc(fpr, tpr)\\n# Plot ROC curve\\nplt.plot(fpr, tpr, label=\\'ROC curve (area = %0.3f)\\' % roc_auc)\\nplt.plot([0, 1], [0, 1], \\'k--\\')  # random predictions curve\\nplt.xlim([0.0, 1.0])\\nplt.ylim([0.0, 1.0])\\nplt.xlabel(\\'False Positive Rate or (1 - Specifity)\\')\\nplt.ylabel(\\'True Positive Rate or (Sensitivity)\\')\\nplt.title(\\'Receiver Operating Characteristic\\')\\nplt.legend(loc=\"lower right\")\\n'"
      ]
     },
     "execution_count": 17,
     "metadata": {},
     "output_type": "execute_result"
    }
   ],
   "source": [
    "\"\"\"\n",
    "# Compute fpr, tpr, thresholds and roc auc\n",
    "fpr, tpr, thresholds = roc_curve(y_train, gbm_train_pred,pos_label = 1)\n",
    "roc_auc = auc(fpr, tpr)\n",
    "# Plot ROC curve\n",
    "plt.plot(fpr, tpr, label='ROC curve (area = %0.3f)' % roc_auc)\n",
    "plt.plot([0, 1], [0, 1], 'k--')  # random predictions curve\n",
    "plt.xlim([0.0, 1.0])\n",
    "plt.ylim([0.0, 1.0])\n",
    "plt.xlabel('False Positive Rate or (1 - Specifity)')\n",
    "plt.ylabel('True Positive Rate or (Sensitivity)')\n",
    "plt.title('Receiver Operating Characteristic')\n",
    "plt.legend(loc=\"lower right\")\n",
    "\"\"\""
   ]
  },
  {
   "cell_type": "code",
   "execution_count": 18,
   "metadata": {},
   "outputs": [
    {
     "data": {
      "text/html": [
       "<div>\n",
       "<style scoped>\n",
       "    .dataframe tbody tr th:only-of-type {\n",
       "        vertical-align: middle;\n",
       "    }\n",
       "\n",
       "    .dataframe tbody tr th {\n",
       "        vertical-align: top;\n",
       "    }\n",
       "\n",
       "    .dataframe thead th {\n",
       "        text-align: right;\n",
       "    }\n",
       "</style>\n",
       "<table border=\"1\" class=\"dataframe\">\n",
       "  <thead>\n",
       "    <tr style=\"text-align: right;\">\n",
       "      <th></th>\n",
       "      <th>True Negative</th>\n",
       "      <th>False Positve</th>\n",
       "      <th>False Negative</th>\n",
       "      <th>True Positive</th>\n",
       "    </tr>\n",
       "  </thead>\n",
       "  <tbody>\n",
       "    <tr>\n",
       "      <th>Training Data</th>\n",
       "      <td>4</td>\n",
       "      <td>207</td>\n",
       "      <td>489</td>\n",
       "      <td>0</td>\n",
       "    </tr>\n",
       "    <tr>\n",
       "      <th>Validation</th>\n",
       "      <td>53</td>\n",
       "      <td>36</td>\n",
       "      <td>183</td>\n",
       "      <td>28</td>\n",
       "    </tr>\n",
       "  </tbody>\n",
       "</table>\n",
       "</div>"
      ],
      "text/plain": [
       "               True Negative  False Positve  False Negative  True Positive\n",
       "Training Data              4            207             489              0\n",
       "Validation                53             36             183             28"
      ]
     },
     "execution_count": 18,
     "metadata": {},
     "output_type": "execute_result"
    },
    {
     "data": {
      "image/png": "[encoded data removed]",
      "text/plain": [
       "<matplotlib.figure.Figure at 0x1d45fdbd630>"
      ]
     },
     "metadata": {
      "needs_background": "light"
     },
     "output_type": "display_data"
    }
   ],
   "source": [
    "roc_plot(y_test, gbm_test_pred,'Decision Tree')\n",
    "a,b = summary_tables(gbm_train_pred,y_train,gbm_test_pred,y_test,threshold = 0.5)\n",
    "a"
   ]
  },
  {
   "cell_type": "code",
   "execution_count": 19,
   "metadata": {
    "scrolled": true
   },
   "outputs": [
    {
     "data": {
      "text/html": [
       "<div>\n",
       "<style scoped>\n",
       "    .dataframe tbody tr th:only-of-type {\n",
       "        vertical-align: middle;\n",
       "    }\n",
       "\n",
       "    .dataframe tbody tr th {\n",
       "        vertical-align: top;\n",
       "    }\n",
       "\n",
       "    .dataframe thead th {\n",
       "        text-align: right;\n",
       "    }\n",
       "</style>\n",
       "<table border=\"1\" class=\"dataframe\">\n",
       "  <thead>\n",
       "    <tr style=\"text-align: right;\">\n",
       "      <th></th>\n",
       "      <th>Bad(Predict Negative)</th>\n",
       "      <th>Good(Predict Positve)</th>\n",
       "      <th>Row Total</th>\n",
       "    </tr>\n",
       "  </thead>\n",
       "  <tbody>\n",
       "    <tr>\n",
       "      <th>Bad(Observed)</th>\n",
       "      <td>53.00</td>\n",
       "      <td>36.00</td>\n",
       "      <td>89.0</td>\n",
       "    </tr>\n",
       "    <tr>\n",
       "      <th>Pecentage Negative</th>\n",
       "      <td>0.60</td>\n",
       "      <td>0.40</td>\n",
       "      <td>1.0</td>\n",
       "    </tr>\n",
       "    <tr>\n",
       "      <th>Good(Observed)</th>\n",
       "      <td>183.00</td>\n",
       "      <td>28.00</td>\n",
       "      <td>211.0</td>\n",
       "    </tr>\n",
       "    <tr>\n",
       "      <th>Pecentage Positive</th>\n",
       "      <td>0.87</td>\n",
       "      <td>0.13</td>\n",
       "      <td>1.0</td>\n",
       "    </tr>\n",
       "    <tr>\n",
       "      <th>Column Total</th>\n",
       "      <td>237.46</td>\n",
       "      <td>64.54</td>\n",
       "      <td>302.0</td>\n",
       "    </tr>\n",
       "  </tbody>\n",
       "</table>\n",
       "</div>"
      ],
      "text/plain": [
       "                    Bad(Predict Negative)  Good(Predict Positve)  Row Total\n",
       "Bad(Observed)                       53.00                  36.00       89.0\n",
       "Pecentage Negative                   0.60                   0.40        1.0\n",
       "Good(Observed)                     183.00                  28.00      211.0\n",
       "Pecentage Positive                   0.87                   0.13        1.0\n",
       "Column Total                       237.46                  64.54      302.0"
      ]
     },
     "execution_count": 19,
     "metadata": {},
     "output_type": "execute_result"
    }
   ],
   "source": [
    "b"
   ]
  },
  {
   "cell_type": "markdown",
   "metadata": {},
   "source": [
    "# Logistic Regression"
   ]
  },
  {
   "cell_type": "code",
   "execution_count": 22,
   "metadata": {},
   "outputs": [],
   "source": [
    "from sklearn.linear_model import LogisticRegression\n",
    "log_reg = LogisticRegression()\n"
   ]
  },
  {
   "cell_type": "code",
   "execution_count": 23,
   "metadata": {},
   "outputs": [],
   "source": [
    "from sklearn.datasets import load_iris\n",
    "from sklearn.linear_model import LogisticRegression\n",
    "X, y = load_iris(return_X_y=True)"
   ]
  },
  {
   "cell_type": "code",
   "execution_count": 24,
   "metadata": {},
   "outputs": [],
   "source": [
    "from sklearn.datasets import load_iris\n",
    "from sklearn.linear_model import LogisticRegression\n",
    "X, y = load_iris(return_X_y=True)\n",
    "clf = LogisticRegression(random_state=0, solver='lbfgs',\n",
    "                      multi_class='ovr').fit(NN_X_train, y_train)\n",
    "logit_train_pred = clf.predict_proba(NN_X_train)[:,1]\n",
    "logit_test_pred = clf.predict_proba(NN_X_test)[:,1]"
   ]
  },
  {
   "cell_type": "code",
   "execution_count": 25,
   "metadata": {},
   "outputs": [
    {
     "data": {
      "text/html": [
       "<div>\n",
       "<style scoped>\n",
       "    .dataframe tbody tr th:only-of-type {\n",
       "        vertical-align: middle;\n",
       "    }\n",
       "\n",
       "    .dataframe tbody tr th {\n",
       "        vertical-align: top;\n",
       "    }\n",
       "\n",
       "    .dataframe thead th {\n",
       "        text-align: right;\n",
       "    }\n",
       "</style>\n",
       "<table border=\"1\" class=\"dataframe\">\n",
       "  <thead>\n",
       "    <tr style=\"text-align: right;\">\n",
       "      <th></th>\n",
       "      <th>True Negative</th>\n",
       "      <th>False Positve</th>\n",
       "      <th>False Negative</th>\n",
       "      <th>True Positive</th>\n",
       "    </tr>\n",
       "  </thead>\n",
       "  <tbody>\n",
       "    <tr>\n",
       "      <th>Training Data</th>\n",
       "      <td>99</td>\n",
       "      <td>112</td>\n",
       "      <td>432</td>\n",
       "      <td>57</td>\n",
       "    </tr>\n",
       "    <tr>\n",
       "      <th>Validation</th>\n",
       "      <td>51</td>\n",
       "      <td>38</td>\n",
       "      <td>179</td>\n",
       "      <td>32</td>\n",
       "    </tr>\n",
       "  </tbody>\n",
       "</table>\n",
       "</div>"
      ],
      "text/plain": [
       "               True Negative  False Positve  False Negative  True Positive\n",
       "Training Data             99            112             432             57\n",
       "Validation                51             38             179             32"
      ]
     },
     "execution_count": 25,
     "metadata": {},
     "output_type": "execute_result"
    },
    {
     "data": {
      "image/png": "[encoded data removed]",
      "text/plain": [
       "<matplotlib.figure.Figure at 0x1d46113fba8>"
      ]
     },
     "metadata": {
      "needs_background": "light"
     },
     "output_type": "display_data"
    }
   ],
   "source": [
    "roc_plot(y_test, logit_test_pred,'Logistic Regression')\n",
    "a,b = summary_tables(logit_train_pred,y_train,logit_test_pred,y_test,threshold = 0.5)\n",
    "a"
   ]
  },
  {
   "cell_type": "code",
   "execution_count": 26,
   "metadata": {},
   "outputs": [
    {
     "data": {
      "text/html": [
       "<div>\n",
       "<style scoped>\n",
       "    .dataframe tbody tr th:only-of-type {\n",
       "        vertical-align: middle;\n",
       "    }\n",
       "\n",
       "    .dataframe tbody tr th {\n",
       "        vertical-align: top;\n",
       "    }\n",
       "\n",
       "    .dataframe thead th {\n",
       "        text-align: right;\n",
       "    }\n",
       "</style>\n",
       "<table border=\"1\" class=\"dataframe\">\n",
       "  <thead>\n",
       "    <tr style=\"text-align: right;\">\n",
       "      <th></th>\n",
       "      <th>Bad(Predict Negative)</th>\n",
       "      <th>Good(Predict Positve)</th>\n",
       "      <th>Row Total</th>\n",
       "    </tr>\n",
       "  </thead>\n",
       "  <tbody>\n",
       "    <tr>\n",
       "      <th>Bad(Observed)</th>\n",
       "      <td>51.00</td>\n",
       "      <td>38.00</td>\n",
       "      <td>89.0</td>\n",
       "    </tr>\n",
       "    <tr>\n",
       "      <th>Pecentage Negative</th>\n",
       "      <td>0.57</td>\n",
       "      <td>0.43</td>\n",
       "      <td>1.0</td>\n",
       "    </tr>\n",
       "    <tr>\n",
       "      <th>Good(Observed)</th>\n",
       "      <td>179.00</td>\n",
       "      <td>32.00</td>\n",
       "      <td>211.0</td>\n",
       "    </tr>\n",
       "    <tr>\n",
       "      <th>Pecentage Positive</th>\n",
       "      <td>0.85</td>\n",
       "      <td>0.15</td>\n",
       "      <td>1.0</td>\n",
       "    </tr>\n",
       "    <tr>\n",
       "      <th>Column Total</th>\n",
       "      <td>231.42</td>\n",
       "      <td>70.58</td>\n",
       "      <td>302.0</td>\n",
       "    </tr>\n",
       "  </tbody>\n",
       "</table>\n",
       "</div>"
      ],
      "text/plain": [
       "                    Bad(Predict Negative)  Good(Predict Positve)  Row Total\n",
       "Bad(Observed)                       51.00                  38.00       89.0\n",
       "Pecentage Negative                   0.57                   0.43        1.0\n",
       "Good(Observed)                     179.00                  32.00      211.0\n",
       "Pecentage Positive                   0.85                   0.15        1.0\n",
       "Column Total                       231.42                  70.58      302.0"
      ]
     },
     "execution_count": 26,
     "metadata": {},
     "output_type": "execute_result"
    }
   ],
   "source": [
    "b"
   ]
  }
 ],
 "metadata": {
  "kernelspec": {
   "display_name": "Python 3",
   "language": "python",
   "name": "python3"
  },
  "language_info": {
   "codemirror_mode": {
    "name": "ipython",
    "version": 3
   },
   "file_extension": ".py",
   "mimetype": "text/x-python",
   "name": "python",
   "nbconvert_exporter": "python",
   "pygments_lexer": "ipython3",
   "version": "3.6.4"
  }
 },
 "nbformat": 4,
 "nbformat_minor": 2
}
